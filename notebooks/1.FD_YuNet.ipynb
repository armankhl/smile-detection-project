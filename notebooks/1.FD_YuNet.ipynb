{
  "cells": [
    {
      "cell_type": "code",
      "execution_count": null,
      "metadata": {
        "colab": {
          "base_uri": "https://localhost:8080/"
        },
        "id": "CzXZJ1t2x47f",
        "outputId": "deb3a3dc-fd42-4c64-993b-6a0798fabf26"
      },
      "outputs": [
        {
          "output_type": "stream",
          "name": "stdout",
          "text": [
            "Mounted at /content/drive\n"
          ]
        }
      ],
      "source": [
        "from google.colab import drive\n",
        "\n",
        "drive.mount('/content/drive')"
      ]
    },
    {
      "cell_type": "code",
      "execution_count": null,
      "metadata": {
        "id": "6Ut4PZ0O0uFm"
      },
      "outputs": [],
      "source": [
        "from pathlib import Path\n",
        "import cv2\n",
        "import numpy as np\n",
        "import IPython\n",
        "from skimage import io\n",
        "import os"
      ]
    },
    {
      "cell_type": "code",
      "execution_count": null,
      "metadata": {
        "id": "hb0CH0io2Rqz",
        "colab": {
          "base_uri": "https://localhost:8080/"
        },
        "outputId": "377f3ffe-c527-4548-a399-365dde2f7344"
      },
      "outputs": [
        {
          "output_type": "stream",
          "name": "stdout",
          "text": [
            "--2024-11-15 15:22:51--  https://github.com/astaileyyoung/CineFace/raw/main/research/data/face_detection_yunet_2023mar.onnx\n",
            "Resolving github.com (github.com)... 140.82.112.3\n",
            "Connecting to github.com (github.com)|140.82.112.3|:443... connected.\n",
            "HTTP request sent, awaiting response... 302 Found\n",
            "Location: https://raw.githubusercontent.com/astaileyyoung/CineFace/main/research/data/face_detection_yunet_2023mar.onnx [following]\n",
            "--2024-11-15 15:22:52--  https://raw.githubusercontent.com/astaileyyoung/CineFace/main/research/data/face_detection_yunet_2023mar.onnx\n",
            "Resolving raw.githubusercontent.com (raw.githubusercontent.com)... 185.199.111.133, 185.199.108.133, 185.199.109.133, ...\n",
            "Connecting to raw.githubusercontent.com (raw.githubusercontent.com)|185.199.111.133|:443... connected.\n",
            "HTTP request sent, awaiting response... 200 OK\n",
            "Length: 232589 (227K) [application/octet-stream]\n",
            "Saving to: ‘face_detection_yunet_2023mar.onnx’\n",
            "\n",
            "face_detection_yune 100%[===================>] 227.14K  --.-KB/s    in 0.06s   \n",
            "\n",
            "2024-11-15 15:22:52 (4.02 MB/s) - ‘face_detection_yunet_2023mar.onnx’ saved [232589/232589]\n",
            "\n"
          ]
        }
      ],
      "source": [
        "!wget https://github.com/astaileyyoung/CineFace/raw/main/research/data/face_detection_yunet_2023mar.onnx"
      ]
    },
    {
      "cell_type": "code",
      "execution_count": null,
      "metadata": {
        "id": "gT9TpS5OT1oh"
      },
      "outputs": [],
      "source": [
        "from pathlib import Path\n",
        "import cv2\n",
        "import numpy as np\n",
        "\n",
        "class FaceDetectorYunet:\n",
        "    def __init__(self, model_path='face_detection_yunet_2023mar.onnx', img_size=(300, 300), threshold=0.5):\n",
        "        self.model_path = model_path\n",
        "        self.img_size = img_size\n",
        "        self.fd = cv2.FaceDetectorYN_create(str(model_path), \"\", img_size, score_threshold=threshold)\n",
        "\n",
        "    def draw_faces(self, image, faces, draw_landmarks=False, show_confidence=False):\n",
        "        for face in faces:\n",
        "            color = (0, 0, 255)\n",
        "            thickness = 2\n",
        "            cv2.rectangle(image, (face['x1'], face['y1']), (face['x2'], face['y2']), color, thickness, cv2.LINE_AA)\n",
        "            if draw_landmarks:\n",
        "                landmarks = face['landmarks']\n",
        "                for landmark in landmarks.values():\n",
        "                    radius = 5\n",
        "                    thickness = -1\n",
        "                    cv2.circle(image, landmark, radius, color, thickness, cv2.LINE_AA)\n",
        "            if show_confidence:\n",
        "                confidence = \"{:.2f}\".format(face['confidence'])\n",
        "                position = (face['x1'], face['y1'] - 10)\n",
        "                font = cv2.FONT_HERSHEY_SIMPLEX\n",
        "                scale = 0.5\n",
        "                cv2.putText(image, confidence, position, font, scale, color, thickness, cv2.LINE_AA)\n",
        "        return image\n",
        "\n",
        "    def scale_coords(self, image, prediction):\n",
        "        ih, iw = image.shape[:2]\n",
        "        rw, rh = self.img_size\n",
        "        a = np.array([\n",
        "            (prediction['x1'], prediction['y1']),\n",
        "            (prediction['x2'], prediction['y2'])\n",
        "        ])\n",
        "        b = np.array([iw / rw, ih / rh])\n",
        "        c = a * b\n",
        "        prediction['img_width'] = iw\n",
        "        prediction['img_height'] = ih\n",
        "        prediction['x1'] = int(c[0, 0].round())\n",
        "        prediction['x2'] = int(c[1, 0].round())\n",
        "        prediction['y1'] = int(c[0, 1].round())\n",
        "        prediction['y2'] = int(c[1, 1].round())\n",
        "        prediction['face_width'] = c[1, 0] - c[0, 0]\n",
        "        prediction['face_height'] = c[1, 1] - c[0, 1]\n",
        "        prediction['area'] = prediction['face_width'] * prediction['face_height']\n",
        "        prediction['pct_of_frame'] = prediction['area'] / (prediction['img_width'] * prediction['img_height'])\n",
        "        return prediction\n",
        "\n",
        "    def detect(self, image):\n",
        "        if isinstance(image, str):\n",
        "            image = cv2.imread(image)\n",
        "        img = cv2.cvtColor(image, cv2.COLOR_BGR2RGB)\n",
        "        img_resized = cv2.resize(img, self.img_size)\n",
        "        self.fd.setInputSize(self.img_size)\n",
        "        _, faces = self.fd.detect(img_resized)\n",
        "        if faces is None:\n",
        "            return None\n",
        "        return self.parse_predictions(image, faces)\n",
        "\n",
        "    def parse_predictions(self, image, faces):\n",
        "        data = []\n",
        "        for num, face in enumerate(faces):\n",
        "            x1, y1, width, height = list(map(int, face[:4]))\n",
        "            x2, y2 = x1 + width, y1 + height\n",
        "            landmarks = face[4:len(face)-1].reshape((5, 2)).astype(int)\n",
        "            positions = ['left_eye', 'right_eye', 'nose', 'right_mouth', 'left_mouth']\n",
        "            landmarks_dict = {positions[i]: tuple(landmarks[i]) for i in range(5)}\n",
        "            confidence = face[-1]\n",
        "            datum = {'x1': x1, 'y1': y1, 'x2': x2, 'y2': y2, 'face_num': num, 'landmarks': landmarks_dict, 'confidence': confidence, 'model': 'yunet'}\n",
        "            data.append(self.scale_coords(image, datum))\n",
        "        return data\n",
        "\n",
        "\n",
        "def crop_faces(input_folder, output_folder):\n",
        "    fd = FaceDetectorYunet(model_path='face_detection_yunet_2023mar.onnx')\n",
        "    if not os.path.exists(output_folder):\n",
        "        os.makedirs(output_folder)\n",
        "    for filename in os.listdir(input_folder):\n",
        "        if filename.lower().endswith(('.png', '.jpg', '.jpeg')):\n",
        "            face_filename = f\"{os.path.splitext(filename)[0]}_face1.jpg\"\n",
        "            face_path = os.path.join(output_folder, face_filename)\n",
        "\n",
        "            # Check if the cropped face already exists\n",
        "            if os.path.exists(face_path):\n",
        "                print(f\"Cropped face is already saved at: {face_path}\")\n",
        "                continue\n",
        "\n",
        "            img_path = os.path.join(input_folder, filename)\n",
        "            img = cv2.imread(img_path)\n",
        "            if img is None:\n",
        "                continue\n",
        "            faces = fd.detect(img)\n",
        "            if faces:\n",
        "                for i, face in enumerate(faces):\n",
        "                    x1, y1, x2, y2 = face['x1'], face['y1'], face['x2'], face['y2']\n",
        "\n",
        "                    # Check if the coordinates are valid\n",
        "                    if 0 <= y1 < y2 <= img.shape[0] and 0 <= x1 < x2 <= img.shape[1]:\n",
        "                        cropped_face = img[y1:y2, x1:x2]\n",
        "\n",
        "                        # Check if cropped_face is not empty before saving\n",
        "                        if cropped_face.size != 0:\n",
        "                            face_filename = f\"{os.path.splitext(filename)[0]}_face{i + 1}.jpg\"\n",
        "                            face_path = os.path.join(output_folder, face_filename)\n",
        "                            cv2.imwrite(face_path, cropped_face)\n",
        "                            print(f\"Cropped face saved at: {face_path}\")\n",
        "                        else:\n",
        "                            print(f\"Warning: Empty cropped face for {filename}, skipping.\")\n",
        "                    else:\n",
        "                        print(f\"Warning: Invalid cropping coordinates for {filename}, skipping.\")\n",
        "            else:\n",
        "                print(f\"Warning: No face detected for {filename}, skipping\")\n",
        "\n",
        "def one_image_crop(image_path):\n",
        "    fd = FaceDetectorYunet(model_path='face_detection_yunet_2023mar.onnx')\n",
        "    img = cv2.imread(image_path)\n",
        "    if img is None:\n",
        "        print(f\"Error: Could not read image at {image_path}\")\n",
        "        return\n",
        "    faces = fd.detect(img)\n",
        "    if faces:\n",
        "        for i, face in enumerate(faces):\n",
        "            x1, y1, x2, y2 = face['x1'], face['y1'], face['x2'], face['y2']\n",
        "            cropped_face = img[y1:y2, x1:x2]\n",
        "            show_image(cropped_face)\n",
        "    else:\n",
        "        print(\"No faces detected in the image.\")"
      ]
    },
    {
      "cell_type": "code",
      "execution_count": null,
      "metadata": {
        "id": "5OEFt8ehThmF"
      },
      "outputs": [],
      "source": [
        "def show_image(image):\n",
        "    _, ret = cv2.imencode('.jpg', image)\n",
        "    i = IPython.display.Image(data=ret)\n",
        "    IPython.display.display(i)"
      ]
    },
    {
      "cell_type": "code",
      "execution_count": null,
      "metadata": {
        "colab": {
          "base_uri": "https://localhost:8080/",
          "height": 209
        },
        "id": "pdIuSGu7ThmG",
        "outputId": "bd50efaa-5c27-41c1-9eb5-5a46ccd9bbf3"
      },
      "outputs": [
        {
          "output_type": "display_data",
          "data": {
            "image/png": "[encoded data removed]",
            "text/plain": [
              "<IPython.core.display.Image object>"
            ]
          },
          "metadata": {}
        }
      ],
      "source": [
        "img = io.imread('/content/drive/MyDrive/GENKI4k/Dataset/smile/file2070.jpg')\n",
        "img = cv2.cvtColor(img, cv2.COLOR_BGR2RGB)\n",
        "faces = fd.detect(img)\n",
        "if faces:\n",
        "    fd.draw_faces(img, faces)\n",
        "show_image(img)"
      ]
    },
    {
      "cell_type": "code",
      "execution_count": null,
      "metadata": {
        "colab": {
          "base_uri": "https://localhost:8080/",
          "height": 279
        },
        "id": "8wBvwQCCThmH",
        "outputId": "37235402-6f80-49ce-c12c-9dbc2af06522"
      },
      "outputs": [
        {
          "output_type": "display_data",
          "data": {
            "image/png": "[encoded data removed]",
            "text/plain": [
              "<IPython.core.display.Image object>"
            ]
          },
          "metadata": {}
        }
      ],
      "source": [
        "img = io.imread('/content/drive/MyDrive/GENKI4k/Dataset/smile/file0003.jpg')\n",
        "img = cv2.cvtColor(img, cv2.COLOR_BGR2RGB)\n",
        "faces = fd.detect(img)\n",
        "if faces:\n",
        "    fd.draw_faces(img, faces)\n",
        "show_image(img)"
      ]
    },
    {
      "cell_type": "code",
      "source": [
        "image_path = ('/content/drive/MyDrive/GENKI4k/Dataset/smile/file2070.jpg')\n",
        "one_image_crop(image_path)"
      ],
      "metadata": {
        "colab": {
          "base_uri": "https://localhost:8080/",
          "height": 175
        },
        "id": "r7zW9MbkZl3n",
        "outputId": "cb41ea13-6052-4e03-eb22-002e0c657d36"
      },
      "execution_count": null,
      "outputs": [
        {
          "output_type": "display_data",
          "data": {
            "image/png": "[encoded data removed]",
            "text/plain": [
              "<IPython.core.display.Image object>"
            ]
          },
          "metadata": {}
        },
        {
          "output_type": "display_data",
          "data": {
            "image/png": "[encoded data removed]",
            "text/plain": [
              "<IPython.core.display.Image object>"
            ]
          },
          "metadata": {}
        }
      ]
    },
    {
      "cell_type": "code",
      "execution_count": null,
      "metadata": {
        "colab": {
          "base_uri": "https://localhost:8080/",
          "height": 58
        },
        "id": "HAbtOvvb3hC5",
        "outputId": "43ae2e34-84a6-43f3-c77b-e10a0106ee30"
      },
      "outputs": [
        {
          "output_type": "display_data",
          "data": {
            "image/png": "[encoded data removed]",
            "text/plain": [
              "<IPython.core.display.Image object>"
            ]
          },
          "metadata": {}
        }
      ],
      "source": [
        "image_path = '/content/drive/MyDrive/GENKI4k/Dataset/smile/file0003.jpg'\n",
        "one_image_crop(image_path)"
      ]
    },
    {
      "cell_type": "code",
      "execution_count": null,
      "metadata": {
        "id": "klaWuQYw413H"
      },
      "outputs": [],
      "source": [
        "# input_folder_1 = '/content/drive/MyDrive/GENKI4k/Dataset/smile'\n",
        "# output_folder_1 = '/content/drive/MyDrive/GENKI4k/Dataset/cropped_smile'\n",
        "# input_folder_2 = '/content/drive/MyDrive/GENKI4k/Dataset/non_smile'\n",
        "# output_folder_2 = '/content/drive/MyDrive/GENKI4k/Dataset/cropped_non_smile'\n",
        "\n",
        "# crop_faces(input_folder_1, output_folder_1)\n",
        "# crop_faces(input_folder_2, output_folder_2)"
      ]
    }
  ],
  "metadata": {
    "colab": {
      "provenance": []
    },
    "kernelspec": {
      "display_name": "Python 3",
      "name": "python3"
    },
    "language_info": {
      "name": "python"
    }
  },
  "nbformat": 4,
  "nbformat_minor": 0
}